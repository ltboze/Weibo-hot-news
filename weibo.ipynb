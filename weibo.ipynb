{
 "cells": [
  {
   "cell_type": "code",
   "execution_count": 2,
   "metadata": {},
   "outputs": [],
   "source": [
    "import requests\n",
    "import re\n",
    "import json \n",
    "import io"
   ]
  },
  {
   "cell_type": "code",
   "execution_count": 63,
   "metadata": {},
   "outputs": [],
   "source": [
    "url = 'https://s.weibo.com/top/summary'\n",
    "headers = {\n",
    "    'User-Agent': 'Mozilla/5.0 (Macintosh; U; Intel Mac OS X 10_6_8; en-us) AppleWebKit/534.50 (KHTML, like Gecko) Version/5.1 Safari/534.50'}\n",
    "response = requests.get(url, headers=headers)\n",
    "response.encoding = 'utf-8'\n",
    "html = response.text\n",
    "title = re.findall(r'<tbody>(.*?)</tbody>', html, re.S)[0]\n",
    "title_list = re.findall(r'href=\"(.*?)\"(.*?)>(.*?)<', title)\n",
    "# print json.dumps(title_list).decode('unicode-escape')\n",
    "\n",
    "\n",
    "def loadweibo(title_list):\n",
    "    for i in range(len(title_list)):\n",
    "        weibo_url, _, weibo_title = title_list[i]\n",
    "        weibo_url = 'https://s.weibo.com/%s' % weibo_url\n",
    "        #weibo_title = json.dumps(weibo_title).decode('unicode-escape')\n",
    "        yield {'No':i,'title':weibo_title,'link':weibo_url}\n",
    "\n",
    "with io.open('%s.txt' %('weibo'),'w',encoding='utf-8') as f:\n",
    "    header = '              ***** Weibo Hot News *****'\n",
    "    f.write(u'{}\\n'.format(header))\n",
    "    for t in loadweibo(title_list):\n",
    "        #print t['title']\n",
    "        #print str(dict(t))\n",
    "        x = t['title']\n",
    "        y = t['No']\n",
    "        z = t['link']\n",
    "        #f.write(t+'\\n')\n",
    "        f.write(u'No:{},{},{}\\n'.format(y,x,z))"
   ]
  },
  {
   "cell_type": "code",
   "execution_count": null,
   "metadata": {},
   "outputs": [],
   "source": []
  }
 ],
 "metadata": {
  "kernelspec": {
   "display_name": "Python 2",
   "language": "python",
   "name": "python2"
  },
  "language_info": {
   "codemirror_mode": {
    "name": "ipython",
    "version": 2
   },
   "file_extension": ".py",
   "mimetype": "text/x-python",
   "name": "python",
   "nbconvert_exporter": "python",
   "pygments_lexer": "ipython2",
   "version": "2.7.13"
  },
  "latex_envs": {
   "LaTeX_envs_menu_present": true,
   "autoclose": false,
   "autocomplete": true,
   "bibliofile": "biblio.bib",
   "cite_by": "apalike",
   "current_citInitial": 1,
   "eqLabelWithNumbers": true,
   "eqNumInitial": 1,
   "hotkeys": {
    "equation": "Ctrl-E",
    "itemize": "Ctrl-I"
   },
   "labels_anchors": false,
   "latex_user_defs": false,
   "report_style_numbering": false,
   "user_envs_cfg": false
  },
  "toc": {
   "base_numbering": 1,
   "nav_menu": {},
   "number_sections": true,
   "sideBar": true,
   "skip_h1_title": false,
   "title_cell": "Table of Contents",
   "title_sidebar": "Contents",
   "toc_cell": false,
   "toc_position": {},
   "toc_section_display": true,
   "toc_window_display": false
  }
 },
 "nbformat": 4,
 "nbformat_minor": 2
}
